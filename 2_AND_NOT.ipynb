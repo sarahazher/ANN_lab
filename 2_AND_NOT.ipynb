{
 "cells": [
  {
   "cell_type": "code",
   "execution_count": 17,
   "id": "ae0de407-8856-4530-864e-56fcede3d5bb",
   "metadata": {},
   "outputs": [
    {
     "name": "stdout",
     "output_type": "stream",
     "text": [
      "Inputs: [[0 0]\n",
      " [0 1]\n",
      " [1 0]\n",
      " [1 1]]\n",
      "Outputs: [0, 1, 0, 0]\n"
     ]
    }
   ],
   "source": [
    "import numpy as np\n",
    "\n",
    "\n",
    "\n",
    "# defibe mc chulloch pitts neuron\n",
    "def mp_neuron(inputs, weights, threshold):\n",
    "# Compute the dot product of the inputs and weights\n",
    "    net = np.dot (inputs, weights)\n",
    "# Apply the threshold function\n",
    "    if net >= threshold:\n",
    "        output = 1\n",
    "    else:\n",
    "        output = 0\n",
    "    return output\n",
    "\n",
    "# def andnot neural network\n",
    "def andnot_nn(inputs) :\n",
    "    weights = [-2, 1]\n",
    "    threshold = 0\n",
    "# Compute the outputs of the two neurons in the first layer\n",
    "    outputs = [mp_neuron (inputs, weights, threshold) for weights in [[-1, 1],[1,-1]]]\n",
    "# Compute the final output of the ANDNOT function\n",
    "    if outputs [0]== 1 and outputs [1] == 0:\n",
    "        output =1                                                            \n",
    "    else:\n",
    "        output = 0\n",
    "    return output\n",
    "\n",
    "# test the andnot neural network\n",
    "\n",
    "inputs = np. array([[0, 0], [0, 1], [1, 0], [1, 1]])\n",
    "outputs = []\n",
    "for i in range(inputs.shape[0]):\n",
    "    y = andnot_nn(inputs[i].reshape(1, -1))\n",
    "    outputs.append(y)\n",
    "print(\"Inputs:\", inputs)\n",
    "print (\"Outputs:\", outputs)"
   ]
  },
  {
   "cell_type": "code",
   "execution_count": null,
   "id": "75656eb5-8f18-4e37-94f5-0d47181a586c",
   "metadata": {},
   "outputs": [],
   "source": []
  },
  {
   "cell_type": "code",
   "execution_count": null,
   "id": "de2ea760-853a-4862-b16c-0cc2d7ae71e4",
   "metadata": {},
   "outputs": [],
   "source": []
  }
 ],
 "metadata": {
  "kernelspec": {
   "display_name": "Python 3 (ipykernel)",
   "language": "python",
   "name": "python3"
  },
  "language_info": {
   "codemirror_mode": {
    "name": "ipython",
    "version": 3
   },
   "file_extension": ".py",
   "mimetype": "text/x-python",
   "name": "python",
   "nbconvert_exporter": "python",
   "pygments_lexer": "ipython3",
   "version": "3.12.2"
  }
 },
 "nbformat": 4,
 "nbformat_minor": 5
}
